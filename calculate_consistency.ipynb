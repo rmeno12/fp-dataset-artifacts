{
 "cells": [
  {
   "cell_type": "code",
   "execution_count": 1,
   "metadata": {},
   "outputs": [],
   "source": [
    "import pandas as pd"
   ]
  },
  {
   "cell_type": "code",
   "execution_count": 6,
   "metadata": {},
   "outputs": [],
   "source": [
    "def calculate_consistency(filename: str):\n",
    "    df = pd.read_json(filename, lines=True)\n",
    "    total_cons = 0\n",
    "    for idx in df[\"og_idx\"]:\n",
    "        this_og = df[df[\"og_idx\"] == idx]\n",
    "        if len(this_og) < 2: continue\n",
    "        cons = (this_og[\"label\"] == this_og[\"predicted_label\"]).all()\n",
    "        total_cons += cons\n",
    "    return total_cons / len(df[\"og_idx\"]) * 100"
   ]
  },
  {
   "cell_type": "code",
   "execution_count": 8,
   "metadata": {},
   "outputs": [
    {
     "name": "stdout",
     "output_type": "stream",
     "text": [
      "snli_aug 6.273499512602701\n",
      "aug_aug_base 36.80545884974238\n",
      "snli_aug_base 7.088149282829689\n",
      "aug_aug 33.87411224063501\n"
     ]
    }
   ],
   "source": [
    "import os\n",
    "\n",
    "folder = \"/scratch/rahul/nlp/fp-dataset-artifacts/eval_outputs\"\n",
    "for item in os.listdir(folder):\n",
    "    item_path = os.path.join(folder, item)\n",
    "    if \"_aug\" in item:\n",
    "        cons = calculate_consistency(item_path + \"/eval_predictions.jsonl\")\n",
    "        print(item, cons)"
   ]
  }
 ],
 "metadata": {
  "kernelspec": {
   "display_name": "nlp-train",
   "language": "python",
   "name": "python3"
  },
  "language_info": {
   "codemirror_mode": {
    "name": "ipython",
    "version": 3
   },
   "file_extension": ".py",
   "mimetype": "text/x-python",
   "name": "python",
   "nbconvert_exporter": "python",
   "pygments_lexer": "ipython3",
   "version": "3.12.2"
  }
 },
 "nbformat": 4,
 "nbformat_minor": 2
}
